{
  "nbformat": 4,
  "nbformat_minor": 0,
  "metadata": {
    "colab": {
      "provenance": [],
      "authorship_tag": "ABX9TyO9fgWVH0ab6UlkQgDnG34A",
      "include_colab_link": true
    },
    "kernelspec": {
      "name": "python3",
      "display_name": "Python 3"
    },
    "language_info": {
      "name": "python"
    }
  },
  "cells": [
    {
      "cell_type": "markdown",
      "metadata": {
        "id": "view-in-github",
        "colab_type": "text"
      },
      "source": [
        "<a href=\"https://colab.research.google.com/github/Nandini-55/AI-Machine_Learning_Journey/blob/main/KMeans_tipsDataset.ipynb\" target=\"_parent\"><img src=\"https://colab.research.google.com/assets/colab-badge.svg\" alt=\"Open In Colab\"/></a>"
      ]
    },
    {
      "cell_type": "code",
      "execution_count": null,
      "metadata": {
        "colab": {
          "base_uri": "https://localhost:8080/",
          "height": 872
        },
        "id": "qEoCbB-k9Ztx",
        "outputId": "b54c0a47-d895-4afa-fad8-c5de2b93bf48"
      },
      "outputs": [
        {
          "output_type": "stream",
          "name": "stdout",
          "text": [
            "Number of samples in each category: \n",
            "day\n",
            "Sat     87\n",
            "Sun     76\n",
            "Thur    62\n",
            "Fri     19\n",
            "Name: count, dtype: int64\n",
            "   day  Cluster\n",
            "0  Sun        0\n",
            "1  Sun        0\n",
            "2  Sun        3\n",
            "3  Sun        2\n",
            "4  Sun        3\n",
            "5  Sun        1\n",
            "6  Sun        0\n",
            "7  Sun        3\n",
            "8  Sun        0\n",
            "9  Sun        2\n",
            "Silhouette Score: 0.38826467420740257\n"
          ]
        },
        {
          "output_type": "display_data",
          "data": {
            "text/html": [
              "<html>\n",
              "<head><meta charset=\"utf-8\" /></head>\n",
              "<body>\n",
              "    <div>            <script src=\"https://cdnjs.cloudflare.com/ajax/libs/mathjax/2.7.5/MathJax.js?config=TeX-AMS-MML_SVG\"></script><script type=\"text/javascript\">if (window.MathJax && window.MathJax.Hub && window.MathJax.Hub.Config) {window.MathJax.Hub.Config({SVG: {font: \"STIX-Web\"}});}</script>                <script type=\"text/javascript\">window.PlotlyConfig = {MathJaxConfig: 'local'};</script>\n",
              "        <script charset=\"utf-8\" src=\"https://cdn.plot.ly/plotly-2.35.2.min.js\"></script>                <div id=\"cb7fd5ac-9dd9-4331-9349-cbb84a508557\" class=\"plotly-graph-div\" style=\"height:525px; width:100%;\"></div>            <script type=\"text/javascript\">                                    window.PLOTLYENV=window.PLOTLYENV || {};                                    if (document.getElementById(\"cb7fd5ac-9dd9-4331-9349-cbb84a508557\")) {                    Plotly.newPlot(                        \"cb7fd5ac-9dd9-4331-9349-cbb84a508557\",                        [{\"hovertemplate\":\"color=0\\u003cbr\\u003eday=Sun\\u003cbr\\u003etotal_bill=%{x}\\u003cbr\\u003etip=%{y}\\u003cbr\\u003esize=%{z}\\u003cextra\\u003e\\u003c\\u002fextra\\u003e\",\"legendgroup\":\"0, Sun\",\"marker\":{\"color\":\"#636efa\",\"symbol\":\"circle\"},\"mode\":\"markers\",\"name\":\"0, Sun\",\"scene\":\"scene\",\"showlegend\":true,\"x\":[16.99,10.34,8.77,15.04,10.27,15.42,10.33,9.68,12.54,10.29,9.94,14.07,13.13,13.39,12.66,13.81,17.89,14.48,15.69],\"y\":[1.01,1.66,2.0,1.96,1.71,1.57,1.67,1.32,2.5,2.6,1.56,2.5,2.0,2.61,2.5,2.0,2.0,2.0,1.5],\"z\":[2,3,2,2,2,2,3,2,2,2,2,2,2,2,2,2,2,2,2],\"type\":\"scatter3d\"},{\"hovertemplate\":\"color=0\\u003cbr\\u003eday=Sat\\u003cbr\\u003etotal_bill=%{x}\\u003cbr\\u003etip=%{y}\\u003cbr\\u003esize=%{z}\\u003cextra\\u003e\\u003c\\u002fextra\\u003e\",\"legendgroup\":\"0, Sat\",\"marker\":{\"color\":\"#636efa\",\"symbol\":\"diamond\"},\"mode\":\"markers\",\"name\":\"0, Sat\",\"scene\":\"scene\",\"showlegend\":true,\"x\":[15.77,13.37,12.69,9.55,11.24,13.81,11.02,16.45,3.07,20.23,15.01,12.02,14.73,10.51,15.36,7.25,10.59,10.63,12.76,13.27,12.9,11.59,7.74,13.28,10.77,10.07,12.6,17.82],\"y\":[2.23,2.0,2.0,1.45,1.76,2.0,1.98,2.47,1.0,2.01,2.09,1.97,2.2,1.25,1.64,1.0,1.61,2.0,2.23,2.5,1.1,1.5,1.44,2.72,1.47,1.25,1.0,1.75],\"z\":[2,2,2,2,2,2,2,2,1,2,2,2,2,2,2,1,2,2,2,2,2,2,2,2,2,2,2,2],\"type\":\"scatter3d\"},{\"hovertemplate\":\"color=0\\u003cbr\\u003eday=Thur\\u003cbr\\u003etotal_bill=%{x}\\u003cbr\\u003etip=%{y}\\u003cbr\\u003esize=%{z}\\u003cextra\\u003e\\u003c\\u002fextra\\u003e\",\"legendgroup\":\"0, Thur\",\"marker\":{\"color\":\"#636efa\",\"symbol\":\"square\"},\"mode\":\"markers\",\"name\":\"0, Thur\",\"scene\":\"scene\",\"showlegend\":true,\"x\":[10.07,15.98,13.03,10.65,12.43,11.69,13.42,14.26,15.95,12.48,8.52,14.52,11.38,19.08,11.17,12.26,8.51,10.33,14.15,16.0,13.16,16.43,8.35,11.87,9.78,7.51,15.48,7.56,10.34,13.0,13.51,12.74,13.0,16.4],\"y\":[1.83,2.03,2.0,1.5,1.8,2.31,1.68,2.5,2.0,2.52,1.48,2.0,2.0,1.5,1.5,2.0,1.25,2.0,2.0,2.0,2.75,2.3,1.5,1.63,1.73,2.0,2.02,1.44,2.0,2.0,2.0,2.01,2.0,2.5],\"z\":[1,2,2,2,2,2,2,2,2,2,2,2,2,2,2,2,2,2,2,2,2,2,2,2,2,2,2,2,2,2,2,2,2,2],\"type\":\"scatter3d\"},{\"hovertemplate\":\"color=0\\u003cbr\\u003eday=Fri\\u003cbr\\u003etotal_bill=%{x}\\u003cbr\\u003etip=%{y}\\u003cbr\\u003esize=%{z}\\u003cextra\\u003e\\u003c\\u002fextra\\u003e\",\"legendgroup\":\"0, Fri\",\"marker\":{\"color\":\"#636efa\",\"symbol\":\"x\"},\"mode\":\"markers\",\"name\":\"0, Fri\",\"scene\":\"scene\",\"showlegend\":true,\"x\":[5.75,12.03,12.46,11.35,12.16,8.58,13.42,16.27,10.09],\"y\":[1.0,1.5,1.5,2.5,2.2,1.92,1.58,2.5,2.0],\"z\":[2,2,2,2,2,1,2,2,2],\"type\":\"scatter3d\"},{\"hovertemplate\":\"color=3\\u003cbr\\u003eday=Sun\\u003cbr\\u003etotal_bill=%{x}\\u003cbr\\u003etip=%{y}\\u003cbr\\u003esize=%{z}\\u003cextra\\u003e\\u003c\\u002fextra\\u003e\",\"legendgroup\":\"3, Sun\",\"marker\":{\"color\":\"#EF553B\",\"symbol\":\"circle\"},\"mode\":\"markers\",\"name\":\"3, Sun\",\"scene\":\"scene\",\"showlegend\":true,\"x\":[21.01,24.59,26.88,18.43,16.29,16.97,28.55,25.56,25.71,17.26,24.55,19.77,25.0,16.49,21.5,16.21,24.52,20.9,30.46,18.15,23.1],\"y\":[3.5,3.61,3.12,3.0,3.71,3.5,2.05,4.34,4.0,2.74,2.0,2.0,3.75,2.0,3.5,2.0,3.48,3.5,2.0,3.5,4.0],\"z\":[3,4,4,4,3,3,3,4,3,3,4,4,4,4,4,3,3,3,5,3,3],\"type\":\"scatter3d\"},{\"hovertemplate\":\"color=3\\u003cbr\\u003eday=Sat\\u003cbr\\u003etotal_bill=%{x}\\u003cbr\\u003etip=%{y}\\u003cbr\\u003esize=%{z}\\u003cextra\\u003e\\u003c\\u002fextra\\u003e\",\"legendgroup\":\"3, Sat\",\"marker\":{\"color\":\"#EF553B\",\"symbol\":\"diamond\"},\"mode\":\"markers\",\"name\":\"3, Sat\",\"scene\":\"scene\",\"showlegend\":true,\"x\":[20.65,17.81,18.35,20.69,24.06,16.31,16.93,18.69,16.04,18.29,17.59,20.08,17.07,26.59,30.06,28.15,30.14,20.45,24.01,15.69],\"y\":[3.35,2.34,2.5,2.45,3.6,2.0,3.07,2.31,2.24,3.76,2.64,3.15,3.0,3.41,2.0,3.0,3.09,3.0,2.0,3.0],\"z\":[3,4,4,4,3,3,3,3,3,4,3,3,3,3,3,5,4,4,4,3],\"type\":\"scatter3d\"},{\"hovertemplate\":\"color=3\\u003cbr\\u003eday=Thur\\u003cbr\\u003etotal_bill=%{x}\\u003cbr\\u003etip=%{y}\\u003cbr\\u003esize=%{z}\\u003cextra\\u003e\\u003c\\u002fextra\\u003e\",\"legendgroup\":\"3, Thur\",\"marker\":{\"color\":\"#EF553B\",\"symbol\":\"square\"},\"mode\":\"markers\",\"name\":\"3, Thur\",\"scene\":\"scene\",\"showlegend\":true,\"x\":[27.2,24.08,22.82,18.64,18.71,20.53,16.47],\"y\":[4.0,2.92,2.18,1.36,4.0,4.0,3.23],\"z\":[4,4,3,3,3,4,3],\"type\":\"scatter3d\"},{\"hovertemplate\":\"color=3\\u003cbr\\u003eday=Fri\\u003cbr\\u003etotal_bill=%{x}\\u003cbr\\u003etip=%{y}\\u003cbr\\u003esize=%{z}\\u003cextra\\u003e\\u003c\\u002fextra\\u003e\",\"legendgroup\":\"3, Fri\",\"marker\":{\"color\":\"#EF553B\",\"symbol\":\"x\"},\"mode\":\"markers\",\"name\":\"3, Fri\",\"scene\":\"scene\",\"showlegend\":true,\"x\":[15.98],\"y\":[3.0],\"z\":[3],\"type\":\"scatter3d\"},{\"hovertemplate\":\"color=2\\u003cbr\\u003eday=Sun\\u003cbr\\u003etotal_bill=%{x}\\u003cbr\\u003etip=%{y}\\u003cbr\\u003esize=%{z}\\u003cextra\\u003e\\u003c\\u002fextra\\u003e\",\"legendgroup\":\"2, Sun\",\"marker\":{\"color\":\"#00cc96\",\"symbol\":\"circle\"},\"mode\":\"markers\",\"name\":\"2, Sun\",\"scene\":\"scene\",\"showlegend\":true,\"x\":[23.68,14.78,14.83,21.58,17.46,13.94,18.29,22.23,18.04,19.49,23.95,17.31,17.51,20.76,7.25,31.85,16.82,32.9,9.6,34.63,23.33,40.55],\"y\":[3.31,3.23,3.02,3.92,2.54,3.06,3.0,5.0,3.0,3.51,2.55,3.5,3.0,2.24,5.15,3.18,4.0,3.11,4.0,3.55,5.65,3.0],\"z\":[2,2,2,2,2,2,2,2,2,2,2,2,2,2,2,2,2,2,2,2,2,2],\"type\":\"scatter3d\"},{\"hovertemplate\":\"color=2\\u003cbr\\u003eday=Sat\\u003cbr\\u003etotal_bill=%{x}\\u003cbr\\u003etip=%{y}\\u003cbr\\u003esize=%{z}\\u003cextra\\u003e\\u003c\\u002fextra\\u003e\",\"legendgroup\":\"2, Sat\",\"marker\":{\"color\":\"#00cc96\",\"symbol\":\"diamond\"},\"mode\":\"markers\",\"name\":\"2, Sat\",\"scene\":\"scene\",\"showlegend\":true,\"x\":[17.92,20.29,19.82,21.7,19.65,15.06,17.78,26.41,20.29,26.86,25.28,17.92,22.42,20.92,20.49,25.21,18.24,14.31,14.0,15.81,24.27,22.12,11.61,15.53,32.83,27.18,22.67],\"y\":[4.08,2.75,3.18,4.3,3.0,3.0,3.27,1.5,3.21,3.14,5.0,3.08,3.48,4.08,4.06,4.29,3.76,4.0,3.0,3.16,2.03,2.88,3.39,3.0,1.17,2.0,2.0],\"z\":[2,2,2,2,2,2,2,2,2,2,2,2,2,2,2,2,2,2,2,2,2,2,2,2,2,2,2],\"type\":\"scatter3d\"},{\"hovertemplate\":\"color=2\\u003cbr\\u003eday=Thur\\u003cbr\\u003etotal_bill=%{x}\\u003cbr\\u003etip=%{y}\\u003cbr\\u003esize=%{z}\\u003cextra\\u003e\\u003c\\u002fextra\\u003e\",\"legendgroup\":\"2, Thur\",\"marker\":{\"color\":\"#00cc96\",\"symbol\":\"square\"},\"mode\":\"markers\",\"name\":\"2, Thur\",\"scene\":\"scene\",\"showlegend\":true,\"x\":[22.76,17.29,19.44,16.66,32.68,18.28,24.71,21.16,20.27,18.26,17.47,19.81,28.44,16.58,18.78],\"y\":[3.0,2.71,3.0,3.4,5.0,4.0,5.85,3.0,2.83,3.25,3.5,4.19,2.56,4.0,3.0],\"z\":[2,2,2,2,2,2,2,2,2,2,2,2,2,2,2],\"type\":\"scatter3d\"},{\"hovertemplate\":\"color=2\\u003cbr\\u003eday=Fri\\u003cbr\\u003etotal_bill=%{x}\\u003cbr\\u003etip=%{y}\\u003cbr\\u003esize=%{z}\\u003cextra\\u003e\\u003c\\u002fextra\\u003e\",\"legendgroup\":\"2, Fri\",\"marker\":{\"color\":\"#00cc96\",\"symbol\":\"x\"},\"mode\":\"markers\",\"name\":\"2, Fri\",\"scene\":\"scene\",\"showlegend\":true,\"x\":[28.97,22.49,16.32,22.75,27.28,21.01,15.38,13.42],\"y\":[3.0,3.5,4.3,3.25,4.0,3.0,3.0,3.48],\"z\":[2,2,2,2,2,2,2,2],\"type\":\"scatter3d\"},{\"hovertemplate\":\"color=1\\u003cbr\\u003eday=Sun\\u003cbr\\u003etotal_bill=%{x}\\u003cbr\\u003etip=%{y}\\u003cbr\\u003esize=%{z}\\u003cextra\\u003e\\u003c\\u002fextra\\u003e\",\"legendgroup\":\"1, Sun\",\"marker\":{\"color\":\"#ab63fa\",\"symbol\":\"circle\"},\"mode\":\"markers\",\"name\":\"1, Sun\",\"scene\":\"scene\",\"showlegend\":true,\"x\":[25.29,35.26,30.4,32.4,34.81,38.07,29.93,29.85,48.17,31.71,34.65,45.35,23.17,20.69],\"y\":[4.71,5.0,5.6,6.0,5.2,4.0,5.07,5.14,5.0,4.5,3.68,3.5,6.5,5.0],\"z\":[4,4,4,4,4,3,4,5,6,4,4,3,4,5],\"type\":\"scatter3d\"},{\"hovertemplate\":\"color=1\\u003cbr\\u003eday=Sat\\u003cbr\\u003etotal_bill=%{x}\\u003cbr\\u003etip=%{y}\\u003cbr\\u003esize=%{z}\\u003cextra\\u003e\\u003c\\u002fextra\\u003e\",\"legendgroup\":\"1, Sat\",\"marker\":{\"color\":\"#ab63fa\",\"symbol\":\"diamond\"},\"mode\":\"markers\",\"name\":\"1, Sat\",\"scene\":\"scene\",\"showlegend\":true,\"x\":[39.42,31.27,38.01,48.27,44.3,50.81,38.73,25.89,48.33,28.17,35.83,29.03],\"y\":[7.58,5.0,3.0,6.73,2.5,10.0,3.0,5.16,9.0,6.5,4.67,5.92],\"z\":[4,3,4,4,3,3,4,4,4,3,3,3],\"type\":\"scatter3d\"},{\"hovertemplate\":\"color=1\\u003cbr\\u003eday=Thur\\u003cbr\\u003etotal_bill=%{x}\\u003cbr\\u003etip=%{y}\\u003cbr\\u003esize=%{z}\\u003cextra\\u003e\\u003c\\u002fextra\\u003e\",\"legendgroup\":\"1, Thur\",\"marker\":{\"color\":\"#ab63fa\",\"symbol\":\"square\"},\"mode\":\"markers\",\"name\":\"1, Thur\",\"scene\":\"scene\",\"showlegend\":true,\"x\":[34.83,29.8,34.3,41.19,27.05,43.11],\"y\":[5.17,4.2,6.7,5.0,5.0,5.0],\"z\":[4,6,6,5,6,4],\"type\":\"scatter3d\"},{\"hovertemplate\":\"color=1\\u003cbr\\u003eday=Fri\\u003cbr\\u003etotal_bill=%{x}\\u003cbr\\u003etip=%{y}\\u003cbr\\u003esize=%{z}\\u003cextra\\u003e\\u003c\\u002fextra\\u003e\",\"legendgroup\":\"1, Fri\",\"marker\":{\"color\":\"#ab63fa\",\"symbol\":\"x\"},\"mode\":\"markers\",\"name\":\"1, Fri\",\"scene\":\"scene\",\"showlegend\":true,\"x\":[40.17],\"y\":[4.73],\"z\":[4],\"type\":\"scatter3d\"}],                        {\"template\":{\"data\":{\"histogram2dcontour\":[{\"type\":\"histogram2dcontour\",\"colorbar\":{\"outlinewidth\":0,\"ticks\":\"\"},\"colorscale\":[[0.0,\"#0d0887\"],[0.1111111111111111,\"#46039f\"],[0.2222222222222222,\"#7201a8\"],[0.3333333333333333,\"#9c179e\"],[0.4444444444444444,\"#bd3786\"],[0.5555555555555556,\"#d8576b\"],[0.6666666666666666,\"#ed7953\"],[0.7777777777777778,\"#fb9f3a\"],[0.8888888888888888,\"#fdca26\"],[1.0,\"#f0f921\"]]}],\"choropleth\":[{\"type\":\"choropleth\",\"colorbar\":{\"outlinewidth\":0,\"ticks\":\"\"}}],\"histogram2d\":[{\"type\":\"histogram2d\",\"colorbar\":{\"outlinewidth\":0,\"ticks\":\"\"},\"colorscale\":[[0.0,\"#0d0887\"],[0.1111111111111111,\"#46039f\"],[0.2222222222222222,\"#7201a8\"],[0.3333333333333333,\"#9c179e\"],[0.4444444444444444,\"#bd3786\"],[0.5555555555555556,\"#d8576b\"],[0.6666666666666666,\"#ed7953\"],[0.7777777777777778,\"#fb9f3a\"],[0.8888888888888888,\"#fdca26\"],[1.0,\"#f0f921\"]]}],\"heatmap\":[{\"type\":\"heatmap\",\"colorbar\":{\"outlinewidth\":0,\"ticks\":\"\"},\"colorscale\":[[0.0,\"#0d0887\"],[0.1111111111111111,\"#46039f\"],[0.2222222222222222,\"#7201a8\"],[0.3333333333333333,\"#9c179e\"],[0.4444444444444444,\"#bd3786\"],[0.5555555555555556,\"#d8576b\"],[0.6666666666666666,\"#ed7953\"],[0.7777777777777778,\"#fb9f3a\"],[0.8888888888888888,\"#fdca26\"],[1.0,\"#f0f921\"]]}],\"heatmapgl\":[{\"type\":\"heatmapgl\",\"colorbar\":{\"outlinewidth\":0,\"ticks\":\"\"},\"colorscale\":[[0.0,\"#0d0887\"],[0.1111111111111111,\"#46039f\"],[0.2222222222222222,\"#7201a8\"],[0.3333333333333333,\"#9c179e\"],[0.4444444444444444,\"#bd3786\"],[0.5555555555555556,\"#d8576b\"],[0.6666666666666666,\"#ed7953\"],[0.7777777777777778,\"#fb9f3a\"],[0.8888888888888888,\"#fdca26\"],[1.0,\"#f0f921\"]]}],\"contourcarpet\":[{\"type\":\"contourcarpet\",\"colorbar\":{\"outlinewidth\":0,\"ticks\":\"\"}}],\"contour\":[{\"type\":\"contour\",\"colorbar\":{\"outlinewidth\":0,\"ticks\":\"\"},\"colorscale\":[[0.0,\"#0d0887\"],[0.1111111111111111,\"#46039f\"],[0.2222222222222222,\"#7201a8\"],[0.3333333333333333,\"#9c179e\"],[0.4444444444444444,\"#bd3786\"],[0.5555555555555556,\"#d8576b\"],[0.6666666666666666,\"#ed7953\"],[0.7777777777777778,\"#fb9f3a\"],[0.8888888888888888,\"#fdca26\"],[1.0,\"#f0f921\"]]}],\"surface\":[{\"type\":\"surface\",\"colorbar\":{\"outlinewidth\":0,\"ticks\":\"\"},\"colorscale\":[[0.0,\"#0d0887\"],[0.1111111111111111,\"#46039f\"],[0.2222222222222222,\"#7201a8\"],[0.3333333333333333,\"#9c179e\"],[0.4444444444444444,\"#bd3786\"],[0.5555555555555556,\"#d8576b\"],[0.6666666666666666,\"#ed7953\"],[0.7777777777777778,\"#fb9f3a\"],[0.8888888888888888,\"#fdca26\"],[1.0,\"#f0f921\"]]}],\"mesh3d\":[{\"type\":\"mesh3d\",\"colorbar\":{\"outlinewidth\":0,\"ticks\":\"\"}}],\"scatter\":[{\"fillpattern\":{\"fillmode\":\"overlay\",\"size\":10,\"solidity\":0.2},\"type\":\"scatter\"}],\"parcoords\":[{\"type\":\"parcoords\",\"line\":{\"colorbar\":{\"outlinewidth\":0,\"ticks\":\"\"}}}],\"scatterpolargl\":[{\"type\":\"scatterpolargl\",\"marker\":{\"colorbar\":{\"outlinewidth\":0,\"ticks\":\"\"}}}],\"bar\":[{\"error_x\":{\"color\":\"#2a3f5f\"},\"error_y\":{\"color\":\"#2a3f5f\"},\"marker\":{\"line\":{\"color\":\"#E5ECF6\",\"width\":0.5},\"pattern\":{\"fillmode\":\"overlay\",\"size\":10,\"solidity\":0.2}},\"type\":\"bar\"}],\"scattergeo\":[{\"type\":\"scattergeo\",\"marker\":{\"colorbar\":{\"outlinewidth\":0,\"ticks\":\"\"}}}],\"scatterpolar\":[{\"type\":\"scatterpolar\",\"marker\":{\"colorbar\":{\"outlinewidth\":0,\"ticks\":\"\"}}}],\"histogram\":[{\"marker\":{\"pattern\":{\"fillmode\":\"overlay\",\"size\":10,\"solidity\":0.2}},\"type\":\"histogram\"}],\"scattergl\":[{\"type\":\"scattergl\",\"marker\":{\"colorbar\":{\"outlinewidth\":0,\"ticks\":\"\"}}}],\"scatter3d\":[{\"type\":\"scatter3d\",\"line\":{\"colorbar\":{\"outlinewidth\":0,\"ticks\":\"\"}},\"marker\":{\"colorbar\":{\"outlinewidth\":0,\"ticks\":\"\"}}}],\"scattermapbox\":[{\"type\":\"scattermapbox\",\"marker\":{\"colorbar\":{\"outlinewidth\":0,\"ticks\":\"\"}}}],\"scatterternary\":[{\"type\":\"scatterternary\",\"marker\":{\"colorbar\":{\"outlinewidth\":0,\"ticks\":\"\"}}}],\"scattercarpet\":[{\"type\":\"scattercarpet\",\"marker\":{\"colorbar\":{\"outlinewidth\":0,\"ticks\":\"\"}}}],\"carpet\":[{\"aaxis\":{\"endlinecolor\":\"#2a3f5f\",\"gridcolor\":\"white\",\"linecolor\":\"white\",\"minorgridcolor\":\"white\",\"startlinecolor\":\"#2a3f5f\"},\"baxis\":{\"endlinecolor\":\"#2a3f5f\",\"gridcolor\":\"white\",\"linecolor\":\"white\",\"minorgridcolor\":\"white\",\"startlinecolor\":\"#2a3f5f\"},\"type\":\"carpet\"}],\"table\":[{\"cells\":{\"fill\":{\"color\":\"#EBF0F8\"},\"line\":{\"color\":\"white\"}},\"header\":{\"fill\":{\"color\":\"#C8D4E3\"},\"line\":{\"color\":\"white\"}},\"type\":\"table\"}],\"barpolar\":[{\"marker\":{\"line\":{\"color\":\"#E5ECF6\",\"width\":0.5},\"pattern\":{\"fillmode\":\"overlay\",\"size\":10,\"solidity\":0.2}},\"type\":\"barpolar\"}],\"pie\":[{\"automargin\":true,\"type\":\"pie\"}]},\"layout\":{\"autotypenumbers\":\"strict\",\"colorway\":[\"#636efa\",\"#EF553B\",\"#00cc96\",\"#ab63fa\",\"#FFA15A\",\"#19d3f3\",\"#FF6692\",\"#B6E880\",\"#FF97FF\",\"#FECB52\"],\"font\":{\"color\":\"#2a3f5f\"},\"hovermode\":\"closest\",\"hoverlabel\":{\"align\":\"left\"},\"paper_bgcolor\":\"white\",\"plot_bgcolor\":\"#E5ECF6\",\"polar\":{\"bgcolor\":\"#E5ECF6\",\"angularaxis\":{\"gridcolor\":\"white\",\"linecolor\":\"white\",\"ticks\":\"\"},\"radialaxis\":{\"gridcolor\":\"white\",\"linecolor\":\"white\",\"ticks\":\"\"}},\"ternary\":{\"bgcolor\":\"#E5ECF6\",\"aaxis\":{\"gridcolor\":\"white\",\"linecolor\":\"white\",\"ticks\":\"\"},\"baxis\":{\"gridcolor\":\"white\",\"linecolor\":\"white\",\"ticks\":\"\"},\"caxis\":{\"gridcolor\":\"white\",\"linecolor\":\"white\",\"ticks\":\"\"}},\"coloraxis\":{\"colorbar\":{\"outlinewidth\":0,\"ticks\":\"\"}},\"colorscale\":{\"sequential\":[[0.0,\"#0d0887\"],[0.1111111111111111,\"#46039f\"],[0.2222222222222222,\"#7201a8\"],[0.3333333333333333,\"#9c179e\"],[0.4444444444444444,\"#bd3786\"],[0.5555555555555556,\"#d8576b\"],[0.6666666666666666,\"#ed7953\"],[0.7777777777777778,\"#fb9f3a\"],[0.8888888888888888,\"#fdca26\"],[1.0,\"#f0f921\"]],\"sequentialminus\":[[0.0,\"#0d0887\"],[0.1111111111111111,\"#46039f\"],[0.2222222222222222,\"#7201a8\"],[0.3333333333333333,\"#9c179e\"],[0.4444444444444444,\"#bd3786\"],[0.5555555555555556,\"#d8576b\"],[0.6666666666666666,\"#ed7953\"],[0.7777777777777778,\"#fb9f3a\"],[0.8888888888888888,\"#fdca26\"],[1.0,\"#f0f921\"]],\"diverging\":[[0,\"#8e0152\"],[0.1,\"#c51b7d\"],[0.2,\"#de77ae\"],[0.3,\"#f1b6da\"],[0.4,\"#fde0ef\"],[0.5,\"#f7f7f7\"],[0.6,\"#e6f5d0\"],[0.7,\"#b8e186\"],[0.8,\"#7fbc41\"],[0.9,\"#4d9221\"],[1,\"#276419\"]]},\"xaxis\":{\"gridcolor\":\"white\",\"linecolor\":\"white\",\"ticks\":\"\",\"title\":{\"standoff\":15},\"zerolinecolor\":\"white\",\"automargin\":true,\"zerolinewidth\":2},\"yaxis\":{\"gridcolor\":\"white\",\"linecolor\":\"white\",\"ticks\":\"\",\"title\":{\"standoff\":15},\"zerolinecolor\":\"white\",\"automargin\":true,\"zerolinewidth\":2},\"scene\":{\"xaxis\":{\"backgroundcolor\":\"#E5ECF6\",\"gridcolor\":\"white\",\"linecolor\":\"white\",\"showbackground\":true,\"ticks\":\"\",\"zerolinecolor\":\"white\",\"gridwidth\":2},\"yaxis\":{\"backgroundcolor\":\"#E5ECF6\",\"gridcolor\":\"white\",\"linecolor\":\"white\",\"showbackground\":true,\"ticks\":\"\",\"zerolinecolor\":\"white\",\"gridwidth\":2},\"zaxis\":{\"backgroundcolor\":\"#E5ECF6\",\"gridcolor\":\"white\",\"linecolor\":\"white\",\"showbackground\":true,\"ticks\":\"\",\"zerolinecolor\":\"white\",\"gridwidth\":2}},\"shapedefaults\":{\"line\":{\"color\":\"#2a3f5f\"}},\"annotationdefaults\":{\"arrowcolor\":\"#2a3f5f\",\"arrowhead\":0,\"arrowwidth\":1},\"geo\":{\"bgcolor\":\"white\",\"landcolor\":\"#E5ECF6\",\"subunitcolor\":\"white\",\"showland\":true,\"showlakes\":true,\"lakecolor\":\"white\"},\"title\":{\"x\":0.05},\"mapbox\":{\"style\":\"light\"}}},\"scene\":{\"domain\":{\"x\":[0.0,1.0],\"y\":[0.0,1.0]},\"xaxis\":{\"title\":{\"text\":\"total_bill\"}},\"yaxis\":{\"title\":{\"text\":\"tip\"}},\"zaxis\":{\"title\":{\"text\":\"size\"}}},\"legend\":{\"title\":{\"text\":\"color, day\"},\"tracegroupgap\":0},\"title\":{\"text\":\"K-Means Clustering on Iris Dataset (All Features)\"}},                        {\"responsive\": true}                    ).then(function(){\n",
              "                            \n",
              "var gd = document.getElementById('cb7fd5ac-9dd9-4331-9349-cbb84a508557');\n",
              "var x = new MutationObserver(function (mutations, observer) {{\n",
              "        var display = window.getComputedStyle(gd).display;\n",
              "        if (!display || display === 'none') {{\n",
              "            console.log([gd, 'removed!']);\n",
              "            Plotly.purge(gd);\n",
              "            observer.disconnect();\n",
              "        }}\n",
              "}});\n",
              "\n",
              "// Listen for the removal of the full notebook cells\n",
              "var notebookContainer = gd.closest('#notebook-container');\n",
              "if (notebookContainer) {{\n",
              "    x.observe(notebookContainer, {childList: true});\n",
              "}}\n",
              "\n",
              "// Listen for the clearing of the current output cell\n",
              "var outputEl = gd.closest('.output');\n",
              "if (outputEl) {{\n",
              "    x.observe(outputEl, {childList: true});\n",
              "}}\n",
              "\n",
              "                        })                };                            </script>        </div>\n",
              "</body>\n",
              "</html>"
            ]
          },
          "metadata": {}
        }
      ],
      "source": [
        "import pandas as pd\n",
        "import plotly.express as px\n",
        "from sklearn.cluster import KMeans\n",
        "from sklearn.preprocessing import StandardScaler\n",
        "from sklearn.metrics import silhouette_score\n",
        "\n",
        "df = px.data.tips()\n",
        "\n",
        "X=df.drop(columns=[\"sex\",\"smoker\",\"day\",\"time\"])\n",
        "\n",
        "scaler=StandardScaler()\n",
        "X_scaled=scaler.fit_transform(X)\n",
        "\n",
        "day_categories = df['day'].value_counts()\n",
        "print(\"Number of samples in each category: \")\n",
        "print(day_categories)\n",
        "\n",
        "kmeans=KMeans(n_clusters=4,random_state=42,n_init=20)\n",
        "df[\"Cluster\"] = kmeans.fit_predict(X_scaled)\n",
        "\n",
        "print(df[[\"day\",\"Cluster\"]].head(10))\n",
        "\n",
        "sil_score = silhouette_score(X_scaled, df[\"Cluster\"])\n",
        "print(\"Silhouette Score:\", sil_score)\n",
        "\n",
        "fig=px.scatter_3d(df,\n",
        "                  x=\"total_bill\",\n",
        "                  y=\"tip\",\n",
        "                  z=\"size\",\n",
        "                  color=df[\"Cluster\"].astype(str),\n",
        "                  symbol=\"day\",\n",
        "                  title=\"K-Means Clustering on Iris Dataset (All Features)\")\n",
        "#size - bubble - as 4d is not possible - we use bubble plot - extended version of scatter plot\n",
        "fig.show()"
      ]
    }
  ]
}